{
 "cells": [
  {
   "cell_type": "markdown",
   "metadata": {},
   "source": [
    "### Splitting of MIDI Files\n",
    "Taking the Full Performance MIDI file and splitting into 20 equal parts"
   ]
  },
  {
   "cell_type": "code",
   "execution_count": 1,
   "metadata": {},
   "outputs": [],
   "source": [
    "import pretty_midi\n",
    "import numpy as np\n",
    "import pandas as pd\n",
    "from collections import Counter\n",
    "import matplotlib.pyplot as plt\n",
    "import os\n",
    "import math"
   ]
  },
  {
   "cell_type": "code",
   "execution_count": 2,
   "metadata": {},
   "outputs": [],
   "source": [
    "def split_export_midi(midi_path , num_parts , output_folder , base_name):\n",
    "    # Load the MIDI file\n",
    "    midi_data = pretty_midi.PrettyMIDI(midi_path)\n",
    "\n",
    "    # Calculate duration of each part\n",
    "    total_dur = midi_data.get_end_time()\n",
    "    part_duration = total_dur / num_parts\n",
    "\n",
    "    # Create OP Folder if not exist\n",
    "    os.makedirs(output_folder , exist_ok=True)\n",
    "\n",
    "    # Split and save each part\n",
    "    for i in range(num_parts):\n",
    "        # Calculate start and end times for each part\n",
    "        start_time = i*part_duration\n",
    "        end_time = (i+1)*part_duration\n",
    "\n",
    "        # Create new MIDI object for part\n",
    "        part_midi = pretty_midi.PrettyMIDI()\n",
    "\n",
    "        # Add instruments with the notes within time range\n",
    "        for instrument in midi_data.instruments:\n",
    "            part_inst = pretty_midi.Instrument(program=instrument.program)\n",
    "            for note in instrument.notes:\n",
    "                if start_time <= note.start < end_time:\n",
    "                    # Adjust note start and end times relative to the part\n",
    "                    part_note = pretty_midi.Note(\n",
    "                        velocity=note.velocity ,\n",
    "                        pitch=note.pitch ,\n",
    "                        start = note.start - start_time ,\n",
    "                        end=min(note.end , end_time) - start_time ,\n",
    "                    )\n",
    "                    part_inst.notes.append(part_note)\n",
    "            \n",
    "            part_midi.instruments.append(part_inst)\n",
    "\n",
    "        # Save the part MIDI file\n",
    "        part_file_path = os.path.join(output_folder, f\"{base_name}_{i + 1}.mid\")\n",
    "        part_midi.write(part_file_path)\n",
    "        print(f\"Saved: {part_file_path}\")\n"
   ]
  },
  {
   "cell_type": "code",
   "execution_count": 4,
   "metadata": {},
   "outputs": [
    {
     "name": "stdout",
     "output_type": "stream",
     "text": [
      "Saved: Raga Segments\\Bhupali_AP_E_1.mid\n",
      "Saved: Raga Segments\\Bhupali_AP_E_2.mid\n",
      "Saved: Raga Segments\\Bhupali_AP_E_3.mid\n",
      "Saved: Raga Segments\\Bhupali_AP_E_4.mid\n",
      "Saved: Raga Segments\\Bhupali_AP_E_5.mid\n",
      "Saved: Raga Segments\\Bhupali_AP_E_6.mid\n",
      "Saved: Raga Segments\\Bhupali_AP_E_7.mid\n",
      "Saved: Raga Segments\\Bhupali_AP_E_8.mid\n",
      "Saved: Raga Segments\\Bhupali_AP_E_9.mid\n",
      "Saved: Raga Segments\\Bhupali_AP_E_10.mid\n",
      "Saved: Raga Segments\\Bhupali_AP_E_11.mid\n",
      "Saved: Raga Segments\\Bhupali_AP_E_12.mid\n",
      "Saved: Raga Segments\\Bhupali_AP_E_13.mid\n",
      "Saved: Raga Segments\\Bhupali_AP_E_14.mid\n",
      "Saved: Raga Segments\\Bhupali_AP_E_15.mid\n",
      "Saved: Raga Segments\\Bhupali_AP_E_16.mid\n",
      "Saved: Raga Segments\\Bhupali_AP_E_17.mid\n",
      "Saved: Raga Segments\\Bhupali_AP_E_18.mid\n",
      "Saved: Raga Segments\\Bhupali_AP_E_19.mid\n",
      "Saved: Raga Segments\\Bhupali_AP_E_20.mid\n"
     ]
    }
   ],
   "source": [
    "split_export_midi(\n",
    "    midi_path='Final-Bhupali-AP-Flute.mid',\n",
    "    num_parts=20,\n",
    "    output_folder='Raga Segments',\n",
    "    base_name='Bhupali_AP_E'\n",
    ")"
   ]
  }
 ],
 "metadata": {
  "kernelspec": {
   "display_name": "Python 3",
   "language": "python",
   "name": "python3"
  },
  "language_info": {
   "codemirror_mode": {
    "name": "ipython",
    "version": 3
   },
   "file_extension": ".py",
   "mimetype": "text/x-python",
   "name": "python",
   "nbconvert_exporter": "python",
   "pygments_lexer": "ipython3",
   "version": "3.12.6"
  }
 },
 "nbformat": 4,
 "nbformat_minor": 2
}
